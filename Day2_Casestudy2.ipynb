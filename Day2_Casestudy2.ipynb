{
 "cells": [
  {
   "cell_type": "code",
   "execution_count": 1,
   "id": "83376c1e",
   "metadata": {},
   "outputs": [
    {
     "name": "stdout",
     "output_type": "stream",
     "text": [
      "4\n"
     ]
    }
   ],
   "source": [
    "#What is the output of following code?\n",
    "#Answer: Set is collection of unique values, so, only the uniques values among the given will be inside set. so the length will give the number of distinct values\n",
    "nums=set([1,1,2,3,3,3,4,4])\n",
    "print(len(nums))"
   ]
  },
  {
   "cell_type": "code",
   "execution_count": 3,
   "id": "c2a63a55",
   "metadata": {},
   "outputs": [
    {
     "name": "stdout",
     "output_type": "stream",
     "text": [
      "['john', 'peter']\n"
     ]
    }
   ],
   "source": [
    "#What will be the output?\n",
    "#Answer: As {} is a dictionary holder which will hold keys and values. d.keys will gve key values\n",
    "d={\"john\":40,\"peter\":45}\n",
    "print(list(d.keys()))"
   ]
  },
  {
   "cell_type": "code",
   "execution_count": 121,
   "id": "012f0f34",
   "metadata": {},
   "outputs": [
    {
     "name": "stdout",
     "output_type": "stream",
     "text": [
      "Enter the password: Abc@123456789\n",
      "Invalid Password\n"
     ]
    }
   ],
   "source": [
    "#Program to check the validity of password with given criteria:\n",
    "Password=input('Enter the password: ')\n",
    "U,L,D,S=0,0,0,0\n",
    "pwd_len=len(Password)\n",
    "if(pwd_len>=6 and pwd_len<=12):\n",
    "    for P in Password:\n",
    "        if (P.isupper()):\n",
    "            U+=1\n",
    "        if (P.islower()):\n",
    "            L+=1\n",
    "        if (P.isdigit()):\n",
    "            D+=1\n",
    "        if (P=='#' or P=='$' or P=='@'):\n",
    "            S+=1\n",
    "if (U>=1 and L>=1 and D>=1 and S>=1):\n",
    "    print('Valid Password')\n",
    "else:\n",
    "    print('Invalid Password')\n",
    "    "
   ]
  },
  {
   "cell_type": "code",
   "execution_count": 12,
   "id": "46cdf764",
   "metadata": {},
   "outputs": [
    {
     "name": "stdout",
     "output_type": "stream",
     "text": [
      "Element of list is \"4\" and its position is \"0\"\n",
      "Element of list is \"7\" and its position is \"1\"\n",
      "Element of list is \"3\" and its position is \"2\"\n",
      "Element of list is \"2\" and its position is \"3\"\n",
      "Element of list is \"5\" and its position is \"4\"\n",
      "Element of list is \"9\" and its position is \"5\"\n"
     ]
    }
   ],
   "source": [
    "#Print all elements and positions of the elements of the list.\n",
    "\n",
    "a=[4,7,3,2,5,9]\n",
    "for i in a:\n",
    "    print('Element of list is \"{}\" and its position is \"{}\"'.format(i, a.index(i)))"
   ]
  },
  {
   "cell_type": "code",
   "execution_count": 39,
   "id": "afba2569",
   "metadata": {},
   "outputs": [
    {
     "name": "stdout",
     "output_type": "stream",
     "text": [
      "Enter a string: H1e2l3l4o5 6W7o8r9l1d\n",
      "Hello World"
     ]
    }
   ],
   "source": [
    "#Get input string from Console and print only even index elements.\n",
    "In_Str=list(input('Enter a string: '))\n",
    "l_lst=len(In_Str)\n",
    "i=0\n",
    "for i in range(0,l_lst):\n",
    "    if i%2==0:\n",
    "        print(In_Str[i], end='')\n",
    "    else:\n",
    "        print('', end='')\n",
    "   "
   ]
  },
  {
   "cell_type": "code",
   "execution_count": 46,
   "id": "c8297682",
   "metadata": {},
   "outputs": [
    {
     "name": "stdout",
     "output_type": "stream",
     "text": [
      "Enter a sentence: Python is interesting to learn\n",
      "nrael ot gnitseretni si nohtyP\n"
     ]
    }
   ],
   "source": [
    "#Get a string from console and reverse every word of the sentence and every letter of the words.\n",
    "In_Sen=input('Enter a sentence: ')\n",
    "print(In_Sen[::-1])"
   ]
  },
  {
   "cell_type": "code",
   "execution_count": 78,
   "id": "89a900b2",
   "metadata": {},
   "outputs": [
    {
     "name": "stdout",
     "output_type": "stream",
     "text": [
      "Enter a sentence: abcdabcdabefg\n",
      "a , 3\n",
      "b , 3\n",
      "c , 2\n",
      "d , 2\n",
      "e , 1\n",
      "f , 1\n",
      "g , 1\n"
     ]
    }
   ],
   "source": [
    "#Get a string from console and find the count of each letter.\n",
    "In_Sen=input('Enter a sentence: ')\n",
    "In_Set={}\n",
    "for i in In_Sen:\n",
    "    if i in In_Set:\n",
    "        In_Set[i]+=1\n",
    "    else:\n",
    "        In_Set[i]=1\n",
    "for i in In_Set:\n",
    "    print(i,',',In_Set[i])\n"
   ]
  },
  {
   "cell_type": "code",
   "execution_count": 80,
   "id": "938fbc77",
   "metadata": {},
   "outputs": [
    {
     "name": "stdout",
     "output_type": "stream",
     "text": [
      "[35, 88]\n"
     ]
    }
   ],
   "source": [
    "#Program to make list of elements common in 2 given lists.\n",
    "\n",
    "def intersection(l1, l2):\n",
    "    l3 = [value for value in l1 if value in l2]\n",
    "    return l3\n",
    "l1=[1,3,6,78,35,55,88]\n",
    "l2=[12,24,35,24,88,120,155]\n",
    "print(intersection(l1, l2))"
   ]
  },
  {
   "cell_type": "code",
   "execution_count": 86,
   "id": "3302bbb8",
   "metadata": {},
   "outputs": [
    {
     "name": "stdout",
     "output_type": "stream",
     "text": [
      "[12, 35, 88, 120, 155]\n"
     ]
    }
   ],
   "source": [
    "#Using list comprehension, removing an element from list provided\n",
    "lst1=[12,24,35,24,88,120,155]\n",
    "lst2 = [x for x in lst1 if x!=24]\n",
    "print(lst2)"
   ]
  },
  {
   "cell_type": "code",
   "execution_count": 93,
   "id": "2d761c16",
   "metadata": {},
   "outputs": [
    {
     "name": "stdout",
     "output_type": "stream",
     "text": [
      "[24, 35, 70, 155]\n"
     ]
    }
   ],
   "source": [
    "#Using list comprehension, removing 0th,4th,5th elements based on index\n",
    "lst3=[12,24,35,70,88,120,155]\n",
    "len_lst=len(lst3)\n",
    "lst4=[]\n",
    "for x in lst3:\n",
    "    if x!=lst3[0] and x!=lst3[4] and x!=lst3[5] :\n",
    "        lst4.append(x)\n",
    "print(lst4)"
   ]
  },
  {
   "cell_type": "code",
   "execution_count": 95,
   "id": "caa0a598",
   "metadata": {},
   "outputs": [
    {
     "name": "stdout",
     "output_type": "stream",
     "text": [
      "[12, 24, 88]\n"
     ]
    }
   ],
   "source": [
    "#Using list comprehension, removing numbers divisible by 5 and 7\n",
    "lst5=[12,24,35,70,88,120,155]\n",
    "lst6 = [x for x in lst5 if x%5!=0 and x%7!=0]\n",
    "print(lst6)"
   ]
  },
  {
   "cell_type": "code",
   "execution_count": 118,
   "id": "d02be6ba",
   "metadata": {},
   "outputs": [
    {
     "name": "stdout",
     "output_type": "stream",
     "text": [
      "Enter the number of interest>0: 5\n",
      "3.55\n"
     ]
    }
   ],
   "source": [
    "#Program to calculate value for a formula given with console input\n",
    "num=int(input('Enter the number of interest>0: '))\n",
    "n=0\n",
    "for i in range(0,num+1):\n",
    "    i1=i/(i+1)\n",
    "    n+=i1\n",
    "print(round(n,2))\n",
    "    "
   ]
  }
 ],
 "metadata": {
  "kernelspec": {
   "display_name": "Python 3 (ipykernel)",
   "language": "python",
   "name": "python3"
  },
  "language_info": {
   "codemirror_mode": {
    "name": "ipython",
    "version": 3
   },
   "file_extension": ".py",
   "mimetype": "text/x-python",
   "name": "python",
   "nbconvert_exporter": "python",
   "pygments_lexer": "ipython3",
   "version": "3.11.4"
  }
 },
 "nbformat": 4,
 "nbformat_minor": 5
}
