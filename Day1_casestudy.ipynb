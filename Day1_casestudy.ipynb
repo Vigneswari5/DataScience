{
 "cells": [
  {
   "cell_type": "code",
   "execution_count": null,
   "id": "59440c72",
   "metadata": {},
   "outputs": [],
   "source": [
    "Case Study 1"
   ]
  },
  {
   "cell_type": "code",
   "execution_count": 60,
   "id": "ddf79d0e",
   "metadata": {},
   "outputs": [
    {
     "name": "stdout",
     "output_type": "stream",
     "text": [
      "enter score41\n",
      "Number entered is: 41\n",
      "Below is the list of factors of 41\n",
      "1 is a Factor of 41 is odd\n",
      "41 is a Factor of 41 is odd\n"
     ]
    }
   ],
   "source": [
    "#1 : Finding Factors of given number and Find whether the factor is odd or even\n",
    "Num=int(input('enter score'))\n",
    "print('Number entered is:', Num)\n",
    "print('Below is the list of factors of', Num)\n",
    "for i in range(1, Num+1):\n",
    "    if Num%i==0:\n",
    "        if i%2==0:\n",
    "            print(i, 'is a Factor of {} and is even'.format(Num))\n",
    "        else:\n",
    "            print(i, 'is a Factor of {} is odd'.format(Num))"
   ]
  },
  {
   "cell_type": "code",
   "execution_count": 84,
   "id": "e815eee4",
   "metadata": {},
   "outputs": [
    {
     "name": "stdout",
     "output_type": "stream",
     "text": [
      "Enter input words with one space in between good bad normal heaven hell\n",
      "Word Sequence entered:  good bad normal heaven hell\n",
      "Sorted Words Alphabetically = ['bad', 'good', 'heaven', 'hell', 'normal']\n"
     ]
    }
   ],
   "source": [
    "#Printing the provided list of words in Sorted order\n",
    "Word_seq=input('Enter input words with one space in between ')\n",
    "print('Word Sequence entered: ', Word_seq)\n",
    "Word_list = Word_seq.split(\" \")\n",
    "\n",
    "for w in range(len(Word_list)):\n",
    "    Word_list[w]=Word_list[w].lower()\n",
    "\n",
    "for n in range(len(Word_list)-1, 0, -1):\n",
    "    for i in range(n):\n",
    "        if Word_list[i] > Word_list[i + 1]:\n",
    "            Word_list[i], Word_list[i + 1] = Word_list[i + 1], Word_list[i]\n",
    "\n",
    "print(\"Sorted Words =\",Word_list)"
   ]
  },
  {
   "cell_type": "code",
   "execution_count": 101,
   "id": "6a93d529",
   "metadata": {},
   "outputs": [
    {
     "name": "stdout",
     "output_type": "stream",
     "text": [
      "Enter the Lower range: 1000\n",
      "Enter the Upper range: 2000\n",
      "[2000]\n"
     ]
    }
   ],
   "source": [
    "#Given 2 Numbers, listing the numbers(separated by comma) between them which have all the even digit in them\n",
    "Num1=int(input('Enter the Lower range: ' ))\n",
    "Num2=int(input('Enter the Upper range: ' ))\n",
    "numbers = []\n",
    "for x in range (Num1, Num2+1):\n",
    "    numSplit = [int(d) for d in str(x)]\n",
    "    odd = False\n",
    "    for y in range (0, len(numSplit)):\n",
    "        if numSplit[y] % 2 != 0:\n",
    "            odd = True\n",
    "    if (odd == False):\n",
    "        numbers.append(x)\n",
    "print (numbers)"
   ]
  },
  {
   "cell_type": "code",
   "execution_count": 108,
   "id": "cbf7d612",
   "metadata": {},
   "outputs": [
    {
     "name": "stdout",
     "output_type": "stream",
     "text": [
      "Enter the Alphanumeric string: The password is 123@python\n",
      "No of Letters in \"The password is 123@python\" is 19\n",
      "No of Digits in \"The password is 123@python\" is 3\n",
      "No of Special charaters in \"The password is 123@python\" is 4\n"
     ]
    }
   ],
   "source": [
    "#Calculating teh number f Letters, digits in provided input string\n",
    "Alphanumeric=input('Enter the Alphanumeric string: ' )\n",
    "Digit=Letter=Sp_char=0\n",
    "for i in Alphanumeric:\n",
    "   if i.isdigit():\n",
    "      Digit=Digit+1\n",
    "   elif i.isalpha():\n",
    "      Letter=Letter+1\n",
    "   else:\n",
    "      Sp_char=Sp_char+1\n",
    "        \n",
    "print('No of Letters in \"{}\" is {}'. format(Alphanumeric,Letter))\n",
    "print('No of Digits in \"{}\" is {}'. format(Alphanumeric,Digit))\n",
    "print('No of Special charaters in \"{}\" is {}'. format(Alphanumeric,Sp_char))"
   ]
  },
  {
   "cell_type": "code",
   "execution_count": 118,
   "id": "9b6ecbcb",
   "metadata": {},
   "outputs": [
    {
     "name": "stdout",
     "output_type": "stream",
     "text": [
      "Enter the number for palindrome check: 654323456\n",
      "Provided number is:  654323456\n",
      "Reveresed number is:  654323456\n",
      "Given number, \"654323456\" is a Palindrome number\n"
     ]
    }
   ],
   "source": [
    "#Finding whether a number provided is palindrome or not\n",
    "number=input('Enter the number for palindrome check: ' )\n",
    "r_number=number[::-1]\n",
    "print('Provided number is: ', number)\n",
    "print('Reveresed number is: ', r_number)\n",
    "if number==r_number:\n",
    "    print('Given number, \"{}\" is a Palindrome number'.format(number))\n",
    "else:\n",
    "    print('Given number, \"{}\" is not a Palindrome number'.format(number))"
   ]
  }
 ],
 "metadata": {
  "kernelspec": {
   "display_name": "Python 3 (ipykernel)",
   "language": "python",
   "name": "python3"
  },
  "language_info": {
   "codemirror_mode": {
    "name": "ipython",
    "version": 3
   },
   "file_extension": ".py",
   "mimetype": "text/x-python",
   "name": "python",
   "nbconvert_exporter": "python",
   "pygments_lexer": "ipython3",
   "version": "3.11.4"
  }
 },
 "nbformat": 4,
 "nbformat_minor": 5
}
