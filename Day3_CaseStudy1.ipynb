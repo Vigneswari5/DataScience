{
 "cells": [
  {
   "cell_type": "code",
   "execution_count": null,
   "id": "f0a164a9",
   "metadata": {},
   "outputs": [],
   "source": [
    "import math\n",
    "\n",
    "x, y = 0, 0\n",
    "\n",
    "while True:\n",
    "    step = input(\"Type in UP/DOWN/LEFT/RIGHT #step number: \")\n",
    "\n",
    "    if step == \"\":\n",
    "        break\n",
    "\n",
    "    else:\n",
    "        step = step.split(\" \")\n",
    "\n",
    "        if step[0] == \"UP\":\n",
    "            y = y + int(step[1])\n",
    "        elif step[0] == \"DOWN\":\n",
    "            y = y - int(step[1])\n",
    "        elif step[0] == \"LEFT\":\n",
    "            x = x - int(step[1])\n",
    "        elif step[0] == \"RIGHT\":\n",
    "            x = x + int(step[1])\n",
    "\n",
    "c = math.sqrt(x**2 + y**2)\n",
    "\n",
    "print(\"Distance:\", c)"
   ]
  },
  {
   "cell_type": "code",
   "execution_count": null,
   "id": "abac2af3",
   "metadata": {},
   "outputs": [],
   "source": [
    "# 2. Data of XYZ company is stored in sorted list. Write a program for searching specific data from that list.\n",
    "# Hint: Use if/elif to deal with conditions.\n",
    "\n",
    "string = input(\"Enter list of items (comma seperated)>>> \")\n",
    "find_ele = input(\"Enter the elements which needs to find>>> \")\n",
    "\n",
    "list_eles = str(string).split(\",\")\n",
    "\n",
    "if find_ele in list_eles:\n",
    "    print(f\"{find_ele} is present in given list at position {list_eles.index(find_ele)+1}\")\n",
    "else:\n",
    "    print(f\"{find_ele} is not present in given list\")"
   ]
  },
  {
   "cell_type": "code",
   "execution_count": null,
   "id": "a3314652",
   "metadata": {},
   "outputs": [],
   "source": [
    "'''Weather forecasting organization wants to show whether is it day or night. So,\n",
    "write a program for such an organization to find whether is it dark outside or not.\n",
    "'''\n",
    "\n",
    "from datetime import datetime\n",
    "\n",
    "\n",
    "def get_part_of_day(hour):\n",
    "    return (\n",
    "        \"Day\" if 5 <= hour <= 18\n",
    "        else\n",
    "        \"Night\"\n",
    "    )\n",
    "\n",
    "\n",
    "h = datetime.now().hour\n",
    "\n",
    "print(f\"Its {get_part_of_day(h)}  right now.\")"
   ]
  },
  {
   "cell_type": "code",
   "execution_count": null,
   "id": "874616ea",
   "metadata": {},
   "outputs": [],
   "source": []
  }
 ],
 "metadata": {
  "kernelspec": {
   "display_name": "Python 3 (ipykernel)",
   "language": "python",
   "name": "python3"
  },
  "language_info": {
   "codemirror_mode": {
    "name": "ipython",
    "version": 3
   },
   "file_extension": ".py",
   "mimetype": "text/x-python",
   "name": "python",
   "nbconvert_exporter": "python",
   "pygments_lexer": "ipython3",
   "version": "3.11.4"
  }
 },
 "nbformat": 4,
 "nbformat_minor": 5
}
