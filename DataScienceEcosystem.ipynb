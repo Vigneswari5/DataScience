{
  "metadata": {
    "kernelspec": {
      "name": "xeus-python",
      "display_name": "Python (XPython)",
      "language": "python"
    },
    "language_info": {
      "file_extension": ".py",
      "mimetype": "text/x-python",
      "name": "python",
      "version": "3.10.2"
    }
  },
  "nbformat_minor": 4,
  "nbformat": 4,
  "cells": [
    {
      "cell_type": "markdown",
      "source": "<h1> Data Science Tools and Ecosystem </h1>",
      "metadata": {}
    },
    {
      "cell_type": "markdown",
      "source": "In this notebook, Data Science Tools and Ecosystem are summarized.",
      "metadata": {}
    },
    {
      "cell_type": "markdown",
      "source": "<b> Objectives: </b>\n<ul>\n  <li>List popular languages for Data Science</li>\n  <li>List popular libraries for Data Scientists</li>\n  <li>Tabulate some tools</li>\n  <li>Trying arithmetic operations</li>\n</ul>",
      "metadata": {}
    },
    {
      "cell_type": "markdown",
      "source": "<ol>\n  <p>Some of the popular languages that Data Scientists use are:</p>\n  <li>Python</li>\n  <li>R</li>\n  <li>SQL</li>\n  <li>Java</li>\n</ol>",
      "metadata": {}
    },
    {
      "cell_type": "markdown",
      "source": "<ol>\n  <p>Some of the commonly used libraries used by Data Scientists include:</p>\n  <li>NumPy</li>\n  <li>Pandas</li>\n  <li>PyTorch</li>\n  <li>Matplotlib</li>\n</ol>",
      "metadata": {}
    },
    {
      "cell_type": "markdown",
      "source": "\n| Data Science Tools |\n| --- | \n| Jupyter|\n| Matplotlib|\n| Apache Spark|",
      "metadata": {}
    },
    {
      "cell_type": "markdown",
      "source": "<h3>Below are a few examples of evaluating arithmetic expressions in Python</h3>",
      "metadata": {}
    },
    {
      "cell_type": "code",
      "source": "#This a simple arithmetic expression to mutiply then add integers\n(3*4)+5",
      "metadata": {
        "trusted": true
      },
      "outputs": [
        {
          "execution_count": 3,
          "output_type": "execute_result",
          "data": {
            "text/plain": "17"
          },
          "metadata": {}
        }
      ],
      "execution_count": 3
    },
    {
      "cell_type": "code",
      "source": "#This will convert 200 minutes to hours by diving by 60\nprint(\"200 minutes\")\nhours_approx=200//60\nhours_exact=200//60\nprint(\"No.of hours:\", hours_approx)\nprint(\"Absolute hours:\", hours_exact)",
      "metadata": {
        "trusted": true
      },
      "outputs": [
        {
          "name": "stdout",
          "text": "200 minutes\nNo.of hours: 3\nAbsolute hours: 3\n",
          "output_type": "stream"
        }
      ],
      "execution_count": 11
    },
    {
      "cell_type": "markdown",
      "source": "<h2>Author</h2>\nVigneswari R",
      "metadata": {}
    },
    {
      "cell_type": "code",
      "source": "",
      "metadata": {
        "trusted": true
      },
      "outputs": [],
      "execution_count": null
    }
  ]
}